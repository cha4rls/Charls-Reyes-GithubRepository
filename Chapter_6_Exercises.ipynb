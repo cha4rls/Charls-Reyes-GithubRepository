{
  "nbformat": 4,
  "nbformat_minor": 0,
  "metadata": {
    "colab": {
      "provenance": [],
      "collapsed_sections": [],
      "authorship_tag": "ABX9TyOykudxnOdgpGEwa4OCwoFJ",
      "include_colab_link": true
    },
    "kernelspec": {
      "name": "python3",
      "display_name": "Python 3"
    },
    "language_info": {
      "name": "python"
    }
  },
  "cells": [
    {
      "cell_type": "markdown",
      "metadata": {
        "id": "view-in-github",
        "colab_type": "text"
      },
      "source": [
        "<a href=\"https://colab.research.google.com/github/cha4rls/Welcome-To-The-World-Of-Programming/blob/main/Chapter_6_Exercises.ipynb\" target=\"_parent\"><img src=\"https://colab.research.google.com/assets/colab-badge.svg\" alt=\"Open In Colab\"/></a>"
      ]
    },
    {
      "cell_type": "code",
      "execution_count": null,
      "metadata": {
        "colab": {
          "base_uri": "https://localhost:8080/"
        },
        "id": "Ka8LBI-LNp5f",
        "outputId": "db486182-a767-4ced-a9e6-7fb7764a423a"
      },
      "outputs": [
        {
          "name": "stdout",
          "output_type": "stream",
          "text": [
            "What toppings would you like to add to your pizza?\n",
            "Please enter finished if you are done choosing your toppings. Ham\n",
            "Good idea! I'll be sure to add Ham as a topping for the pizza.\n",
            "What toppings would you like to add to your pizza?\n",
            "Please enter finished if you are done choosing your toppings. Mushrooms\n",
            "Good idea! I'll be sure to add Mushrooms as a topping for the pizza.\n",
            "What toppings would you like to add to your pizza?\n",
            "Please enter finished if you are done choosing your toppings. Extra Mozzarella Cheese\n",
            "Good idea! I'll be sure to add Extra Mozzarella Cheese as a topping for the pizza.\n",
            "What toppings would you like to add to your pizza?\n",
            "Please enter finished if you are done choosing your toppings. finished\n"
          ]
        }
      ],
      "source": [
        "#Exercise 1: Pizza Toppings\n",
        "\n",
        "pizzatopping = \"What toppings would you like to add to your pizza?\" # Prints a statement\n",
        "pizzatopping += \"\\nPlease enter finished if you are done choosing your toppings. \" # Prints a following statement that gets an output from the user\n",
        "\n",
        "while True: # While is a loop function that is used to execute a set of codes that repeats until given a stop command\n",
        "  toppings = input(pizzatopping) # Gets an output from the user and calls that variable as toppings\n",
        "  if toppings == 'finished': # An if statement that if the user would type in the word 'finished', then the loop would end\n",
        "          break\n",
        "  else: # An if statement that the loop would be repeated if the output isn't the word 'finished'\n",
        "      print(\"Good idea! I'll be sure to add \" + toppings.title() + \" as a topping for the pizza.\") # Prints a statement including the output that the user have put."
      ]
    },
    {
      "cell_type": "code",
      "source": [
        "#Exercise 2: Movie Tickets\n",
        "\n",
        "howoldareyou = \"\\nHello! Welcome to the movie theater. Different charges apply for different ages.\" # Prints a statement\n",
        "howoldareyou += \"\\nPlease enter all of the ages, and type done if you are finished. \" # Prints a following statement that gets an output from the user\n",
        "\n",
        "while True: # While is a loop function that is used to execute a set of codes that repeats until given a stop command\n",
        "  age = input(howoldareyou) # Gets an output from the user and calls that variable as age\n",
        "  if age == 'done': # An if statement that if the user types in the word 'done', then the loop would end\n",
        "          break\n",
        "  age = int(age) # Gets the output from the user, which only accepts integers\n",
        "\n",
        "  if age < 3: # An if statement that prints this statement if the age is less than 3\n",
        "    print(\"The movie ticket is free of charge! You can now enter, and enjoy the movie!\")\n",
        "  elif age < 12: # An if statement that prints this statement if the age is less than 12\n",
        "    print(\"The movie ticket costs $10. We hope you enjoy the movie!\")\n",
        "  else: # An if statement that prints this statement if the age is 12 and above\n",
        "    print(\"The movie ticket costs $15. We hope you enjoy the movie!\")"
      ],
      "metadata": {
        "colab": {
          "base_uri": "https://localhost:8080/"
        },
        "id": "Fv3Yv5fLRLUR",
        "outputId": "818aac9b-16e9-422d-c164-13d1ab54914a"
      },
      "execution_count": null,
      "outputs": [
        {
          "name": "stdout",
          "output_type": "stream",
          "text": [
            "\n",
            "Hello! Welcome to the movie theater. Different charges apply for different ages.\n",
            "Please enter all of the ages, and type done if you are finished. 2\n",
            "The movie ticket is free of charge! You can now enter, and enjoy the movie!\n",
            "\n",
            "Hello! Welcome to the movie theater. Different charges apply for different ages.\n",
            "Please enter all of the ages, and type done if you are finished. 6\n",
            "The movie ticket costs $10. We hope you enjoy the movie!\n",
            "\n",
            "Hello! Welcome to the movie theater. Different charges apply for different ages.\n",
            "Please enter all of the ages, and type done if you are finished. 21\n",
            "The movie ticket costs $15. We hope you enjoy the movie!\n",
            "\n",
            "Hello! Welcome to the movie theater. Different charges apply for different ages.\n",
            "Please enter all of the ages, and type done if you are finished. 24\n",
            "The movie ticket costs $15. We hope you enjoy the movie!\n",
            "\n",
            "Hello! Welcome to the movie theater. Different charges apply for different ages.\n",
            "Please enter all of the ages, and type done if you are finished. done\n"
          ]
        }
      ]
    },
    {
      "cell_type": "code",
      "source": [
        "#Exercise 3: Infinity\n",
        "\n",
        "charls = \"handsome\" # A variable called charls, with its equivalent value as handsome\n",
        "while charls == \"handsome\": # Repeats a command if charls is equivalent to handsome\n",
        "  print(\"Thank you.\")"
      ],
      "metadata": {
        "id": "gaEiB0jYTt7_"
      },
      "execution_count": 12,
      "outputs": []
    },
    {
      "cell_type": "code",
      "source": [
        "#Exercise 4: Deli\n",
        "\n",
        "sandwich_orders = [\"Grilled Cheese Sandwich\", \"Ham and Cheese Sandwich\", \"Hotdog Sandwich\"] # A list called sandwich_orders with elements inside\n",
        "finished_sandwiches = [] # An empty list called finished_sandwiches\n",
        "\n",
        "while sandwich_orders:\n",
        "  eaten_sandwiches = sandwich_orders.pop() # sandwich_orders.pop() removes an element inside the list, and calls removed element as eaten_sandwiches\n",
        "  print(\"Hi! I've finished making your\", eaten_sandwiches+\"! Order is ready and please collect it at the counter. :)\") # Prints a statement including the removed element from the list\n",
        "  finished_sandwiches.append(eaten_sandwiches) # Adds the removed element from the first list to the empty list\n",
        "\n",
        "print(\"\\nGood day! The following listed below are the sandwiches made:\")\n",
        "for sandwiches in finished_sandwiches: # Seperates each element from the list of finished_sandwiches\n",
        "  print(\"Thank you for ordering a\", sandwiches+\"! Please come back again!\")"
      ],
      "metadata": {
        "id": "AMGyZDWYUyf4",
        "colab": {
          "base_uri": "https://localhost:8080/"
        },
        "outputId": "fe679ffc-16a1-444f-8ab4-0f0bb8d80c49"
      },
      "execution_count": 9,
      "outputs": [
        {
          "output_type": "stream",
          "name": "stdout",
          "text": [
            "Hi! I've finished making your Hotdog Sandwich! Order is ready and please collect it at the counter. :)\n",
            "Hi! I've finished making your Ham and Cheese Sandwich! Order is ready and please collect it at the counter. :)\n",
            "Hi! I've finished making your Grilled Cheese Sandwich! Order is ready and please collect it at the counter. :)\n",
            "\n",
            "Good day! The following listed below are the sandwiches made:\n",
            "Thank you for ordering a Hotdog Sandwich! Please come back again!\n",
            "Thank you for ordering a Ham and Cheese Sandwich! Please come back again!\n",
            "Thank you for ordering a Grilled Cheese Sandwich! Please come back again!\n"
          ]
        }
      ]
    },
    {
      "cell_type": "code",
      "source": [
        "#Exercise 5: No Pastrami\n",
        "\n",
        "sandwich_orders = [\"Pastrami Sandwich\", \"Grilled Cheese Sandwich\", \"Pastrami Sandwich\", \"Ham and Cheese Sandwich\", \"Hotdog Sandwich\", \"Pastrami Sandwich\"]\n",
        "finished_sandwiches = []\n",
        "\n",
        "print(\"Good day! Sorry to inform you, but unfortunately, the deli have ran out of pastrami. So orders containing pastrami would be unavailable.\\n\")\n",
        "\n",
        "for sandwiches in sandwich_orders:\n",
        "  if sandwiches == \"Pastrami Sandwich\": # An if statement that if a sandwich is 'Pastrami Sandwich'\n",
        "    sandwich_orders.remove(sandwiches) # Removes the particular element inside the list\n",
        "\n",
        "while sandwich_orders:\n",
        "  eaten_sandwiches = sandwich_orders.pop()\n",
        "  print(\"Hi! I've finished making your\", eaten_sandwiches+\"! Order is ready and please collect it at the counter. :)\")\n",
        "  finished_sandwiches.append(eaten_sandwiches)\n",
        "\n",
        "print(\"\\nGood day! The following listed below are the sandwiches made:\")\n",
        "for sandwiches in finished_sandwiches:\n",
        "  print(\"Thank you for ordering a\", sandwiches+\"! Please come back again!\")"
      ],
      "metadata": {
        "colab": {
          "base_uri": "https://localhost:8080/"
        },
        "id": "JKnhixYlmfLI",
        "outputId": "842aa2ee-d356-458b-9f8a-aca918908ff4"
      },
      "execution_count": 11,
      "outputs": [
        {
          "output_type": "stream",
          "name": "stdout",
          "text": [
            "Good day! Sorry to inform you, but unfortunately, the deli have ran out of pastrami. So orders containing pastrami would be unavailable.\n",
            "\n",
            "Hi! I've finished making your Hotdog Sandwich! Order is ready and please collect it at the counter. :)\n",
            "Hi! I've finished making your Ham and Cheese Sandwich! Order is ready and please collect it at the counter. :)\n",
            "Hi! I've finished making your Grilled Cheese Sandwich! Order is ready and please collect it at the counter. :)\n",
            "\n",
            "Good day! The following listed below are the sandwiches made:\n",
            "Thank you for ordering a Hotdog Sandwich! Please come back again!\n",
            "Thank you for ordering a Ham and Cheese Sandwich! Please come back again!\n",
            "Thank you for ordering a Grilled Cheese Sandwich! Please come back again!\n"
          ]
        }
      ]
    }
  ]
}