{
  "nbformat": 4,
  "nbformat_minor": 0,
  "metadata": {
    "colab": {
      "provenance": [],
      "authorship_tag": "ABX9TyPoLY1DBgTDF2Qi9Hx2toZe",
      "include_colab_link": true
    },
    "kernelspec": {
      "name": "python3",
      "display_name": "Python 3"
    },
    "language_info": {
      "name": "python"
    }
  },
  "cells": [
    {
      "cell_type": "markdown",
      "metadata": {
        "id": "view-in-github",
        "colab_type": "text"
      },
      "source": [
        "<a href=\"https://colab.research.google.com/github/cha4rls/Welcome-To-The-World-Of-Programming/blob/main/Chapter_2_Exercises.ipynb\" target=\"_parent\"><img src=\"https://colab.research.google.com/assets/colab-badge.svg\" alt=\"Open In Colab\"/></a>"
      ]
    },
    {
      "cell_type": "code",
      "execution_count": null,
      "metadata": {
        "colab": {
          "base_uri": "https://localhost:8080/"
        },
        "id": "D7L7UTd5DaQG",
        "outputId": "c756a165-301c-4f2d-e3e1-48ab136b8923"
      },
      "outputs": [
        {
          "output_type": "stream",
          "name": "stdout",
          "text": [
            "I study in Bath Spa University.\n",
            "We are in the year 2022.\n"
          ]
        }
      ],
      "source": [
        "#Exercise 1: Variables\n",
        "\n",
        "codelab = \"I study in Bath Spa University.\"\n",
        "print(codelab)\n",
        "\n",
        "codelab = \"We are in the year 2022.\"\n",
        "print(codelab)\n"
      ]
    },
    {
      "cell_type": "code",
      "source": [
        "#Exercise 2: Variables\n",
        "\n",
        "print(\"C.S. Lewis once said, \\\"You can't go back and change the beginning, but you can start where you are and change the ending.\\\"\")"
      ],
      "metadata": {
        "colab": {
          "base_uri": "https://localhost:8080/"
        },
        "id": "nBlpyd3pDf0p",
        "outputId": "332a7d81-7ba8-4745-c1a6-8c94203f7e3e"
      },
      "execution_count": null,
      "outputs": [
        {
          "output_type": "stream",
          "name": "stdout",
          "text": [
            "C.S. Lewis once said, \"You can't go back and change the beginning, but you can start where you are and change the ending.\"\n"
          ]
        }
      ]
    },
    {
      "cell_type": "code",
      "source": [
        "#Exercise 3: Stripping Names\n",
        "\n",
        "myname = \"    Charls S. Reyes    \"\n",
        "print(myname)\n",
        "print(\"\\n\")\n",
        "print(myname.strip(), \"\\t\")\n",
        "print(myname.rstrip())\n",
        "print(myname.lstrip())"
      ],
      "metadata": {
        "id": "bGVJL7ypElwA",
        "colab": {
          "base_uri": "https://localhost:8080/"
        },
        "outputId": "36440cb4-0f02-4d53-f7db-e9d20e074e41"
      },
      "execution_count": 12,
      "outputs": [
        {
          "output_type": "stream",
          "name": "stdout",
          "text": [
            "    Charls S. Reyes    \n",
            "\n",
            "\n",
            "Charls S. Reyes \t\n",
            "    Charls S. Reyes\n",
            "Charls S. Reyes    \n"
          ]
        }
      ]
    },
    {
      "cell_type": "code",
      "source": [
        "#Exercise 4: Favorite Number\n",
        "\n",
        "favenum = 9\n",
        "print(\"My birthday is on March 9, 2003. Therefore, my favorite number is\", favenum)"
      ],
      "metadata": {
        "colab": {
          "base_uri": "https://localhost:8080/"
        },
        "id": "NkZcps-HKrkc",
        "outputId": "7b96e814-2499-4d94-fc5b-4ce89e4778f0"
      },
      "execution_count": 15,
      "outputs": [
        {
          "output_type": "stream",
          "name": "stdout",
          "text": [
            "My birthday is on March 9, 2003. Therefore, my favorite number is 9\n"
          ]
        }
      ]
    },
    {
      "cell_type": "code",
      "source": [
        "#Exercise 5: USB Shopper\n",
        "\n",
        "money = float(input(\"Each USB Stick costs 6 euros. Please input your budget for the USB Sticks. \\n\"))\n",
        "print(\"\\n\")\n",
        "\n",
        "a = 6             #Variable A is the price of each USB Stick\n",
        "b = money//a      #Variable B is the amount of USB stick the girl could get\n",
        "c = a*b           #Variable C is the cost for the total of the USB sticks\n",
        "d = money-c       #Variable D is the amount of change\n",
        "print(\"Amount of USB Sticks you can buy: \", b)\n",
        "print(\"Total Cost of the USB Sticks: \", c)\n",
        "print(\"Amount for change: \", d)"
      ],
      "metadata": {
        "colab": {
          "base_uri": "https://localhost:8080/"
        },
        "id": "jteTw7YvK-IN",
        "outputId": "eea8a85c-3c7e-4348-a5bb-b5c926ee0d35"
      },
      "execution_count": 17,
      "outputs": [
        {
          "output_type": "stream",
          "name": "stdout",
          "text": [
            "Each USB Stick costs 6 euros. Please input your budget for the USB Sticks. \n",
            "50\n",
            "\n",
            "\n",
            "Amount of USB Sticks you can buy:  8.0\n",
            "Total Cost of the USB Sticks:  48.0\n",
            "Amount for change:  2.0\n"
          ]
        }
      ]
    }
  ]
}