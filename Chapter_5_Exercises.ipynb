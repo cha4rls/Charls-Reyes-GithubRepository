{
  "nbformat": 4,
  "nbformat_minor": 0,
  "metadata": {
    "colab": {
      "provenance": [],
      "authorship_tag": "ABX9TyPb3ivC/MeNVMQd+ENpzo2z",
      "include_colab_link": true
    },
    "kernelspec": {
      "name": "python3",
      "display_name": "Python 3"
    },
    "language_info": {
      "name": "python"
    }
  },
  "cells": [
    {
      "cell_type": "markdown",
      "metadata": {
        "id": "view-in-github",
        "colab_type": "text"
      },
      "source": [
        "<a href=\"https://colab.research.google.com/github/cha4rls/Welcome-To-The-World-Of-Programming/blob/main/Chapter_5_Exercises.ipynb\" target=\"_parent\"><img src=\"https://colab.research.google.com/assets/colab-badge.svg\" alt=\"Open In Colab\"/></a>"
      ]
    },
    {
      "cell_type": "code",
      "execution_count": 1,
      "metadata": {
        "colab": {
          "base_uri": "https://localhost:8080/"
        },
        "id": "jfYqAjTtaNY8",
        "outputId": "b1bb6aee-be21-4406-fea8-31605a7bfb28"
      },
      "outputs": [
        {
          "output_type": "stream",
          "name": "stdout",
          "text": [
            "Kyle\n",
            "Reyes\n",
            "18\n",
            "Dubai\n"
          ]
        }
      ],
      "source": [
        "#Exercise 1: Person\n",
        "\n",
        "myfriend = {'First_Name': 'Kyle', 'Last_Name': 'Reyes', 'Age': '18', 'City': 'Dubai'}\n",
        "print(myfriend['First_Name'])\n",
        "print(myfriend['Last_Name'])\n",
        "print(myfriend['Age'])\n",
        "print(myfriend['City'])"
      ]
    },
    {
      "cell_type": "code",
      "source": [
        "#Exercise 2: Glossary\n",
        "\n",
        "dictionary = {\n",
        "    'Ordinal Value': 'Equivalent number of a character in Python.', \n",
        "    'List': 'Used to store multiple variables of the same type.', \n",
        "    'Variable': 'A representation of a value, which could either be a string, integer or boolean.',\n",
        "    'Dictionary': 'Used to store multiple variables of differet types',\n",
        "    'if statement': 'Used in giving different conditions'\n",
        "}\n",
        "\n",
        "print('Ordinal Value:')\n",
        "print(dictionary['Ordinal Value'])\n",
        "print('\\n')\n",
        "\n",
        "print('List:')\n",
        "print(dictionary['List'])\n",
        "print('\\n')\n",
        "\n",
        "print('Variable:')\n",
        "print(dictionary['Variable'])\n",
        "print('\\n')\n",
        "\n",
        "print('Dictionary:')\n",
        "print(dictionary['Dictionary'])\n",
        "print('\\n')\n",
        "\n",
        "print('if statement:')\n",
        "print(dictionary['if statement'])\n",
        "print('\\n')"
      ],
      "metadata": {
        "colab": {
          "base_uri": "https://localhost:8080/"
        },
        "id": "U7oih3T8bOLE",
        "outputId": "5b71539c-0d30-415b-df52-491389c16410"
      },
      "execution_count": 2,
      "outputs": [
        {
          "output_type": "stream",
          "name": "stdout",
          "text": [
            "Ordinal Value:\n",
            "Equivalent number of a character in Python.\n",
            "\n",
            "\n",
            "List:\n",
            "Used to store multiple variables of the same type.\n",
            "\n",
            "\n",
            "Variable:\n",
            "A representation of a value, which could either be a string, integer or boolean.\n",
            "\n",
            "\n",
            "Dictionary:\n",
            "Used to store multiple variables of differet types\n",
            "\n",
            "\n",
            "if statement:\n",
            "Used in giving different conditions\n",
            "\n",
            "\n"
          ]
        }
      ]
    },
    {
      "cell_type": "code",
      "source": [
        "#Exercise 3: Glossary 2\n",
        "\n",
        "dictionary = {\n",
        "    'Ordinal Value': 'Equivalent number of a character in Python.', \n",
        "    'List': 'Used to store multiple variables of the same type.', \n",
        "    'Variable': 'A representation of a value, which could either be a string, integer or boolean.', \n",
        "    'Dictionary': 'Used to store multiple variables of differet types.', \n",
        "    'If Statement': 'Used in giving different conditions.', \n",
        "    'Import': 'Used to import codes from other moduels.', \n",
        "    'sort()': 'Used to sort elements in alphabetical order permanently.', \n",
        "    'append()': 'Used to add an element at the end of the list.', \n",
        "    'reverse()': 'Used to sort elements in reverse alphabetical order permanently.', \n",
        "    'New Line Function': 'Used to add a blank line in between lines.'\n",
        "}\n",
        "\n",
        "for key, value in dictionary.items():\n",
        "  print(key+':', value)"
      ],
      "metadata": {
        "colab": {
          "base_uri": "https://localhost:8080/"
        },
        "id": "iWjMnwt6dIIL",
        "outputId": "3881613e-e7b2-4b50-ee36-5fe08e7fe3ad"
      },
      "execution_count": 6,
      "outputs": [
        {
          "output_type": "stream",
          "name": "stdout",
          "text": [
            "Ordinal Value: Equivalent number of a character in Python.\n",
            "List: Used to store multiple variables of the same type.\n",
            "Variable: A representation of a value, which could either be a string, integer or boolean.\n",
            "Dictionary: Used to store multiple variables of differet types.\n",
            "If Statement: Used in giving different conditions.\n",
            "Import: Used to import codes from other moduels.\n",
            "sort(): Used to sort elements in alphabetical order permanently.\n",
            "append(): Used to add an element at the end of the list.\n",
            "reverse(): Used to sort elements in reverse alphabetical order permanently.\n",
            "New Line Function: Used to add a blank line in between lines.\n"
          ]
        }
      ]
    },
    {
      "cell_type": "code",
      "source": [
        "#Exercise 4: Rivers\n",
        "\n",
        "rivers = {\"Amazon River\": \"Brazil\", \"Mississippi River\": \"United States of America\", \"Congo River\": \"Republic of Congo\"}\n",
        "for key, value in rivers.items():\n",
        "  print(key,\"runs through\", value)\n",
        "\n",
        "\n",
        "print(\"\\nRivers listed:\")\n",
        "for key in rivers.keys():\n",
        "  print(key)\n",
        "\n",
        "print(\"\\nCountries listed:\")\n",
        "for value in rivers.values():\n",
        "  print(value)"
      ],
      "metadata": {
        "colab": {
          "base_uri": "https://localhost:8080/"
        },
        "id": "iewk71B1h_yp",
        "outputId": "5bf5598a-0d00-4b07-dad3-bbcde45516d3"
      },
      "execution_count": 14,
      "outputs": [
        {
          "output_type": "stream",
          "name": "stdout",
          "text": [
            "Amazon River runs through Brazil\n",
            "Mississippi River runs through United States of America\n",
            "Congo River runs through Republic of Congo\n",
            "\n",
            "Rivers listed:\n",
            "Amazon River\n",
            "Mississippi River\n",
            "Congo River\n",
            "\n",
            "Countries listed:\n",
            "Brazil\n",
            "United States of America\n",
            "Republic of Congo\n"
          ]
        }
      ]
    },
    {
      "cell_type": "code",
      "source": [
        "#Exercise 5: Pets\n",
        "\n",
        "pet1 = {'Animal': 'Dog', 'Type': 'Dobermann', 'Name of Owner': 'Charls'}\n",
        "pet2 = {'Animal': 'Cat', 'Type': 'Persian Cat', 'Name of Owner': 'Cyriece'}\n",
        "pet3 = {'Animal': 'Bird', 'Type': 'Parrot', 'Name of Owner': 'Cayla'}\n",
        "\n",
        "pets = [pet1, pet2, pet3]\n",
        "\n",
        "for pets in pets:\n",
        "  print(pets)"
      ],
      "metadata": {
        "colab": {
          "base_uri": "https://localhost:8080/"
        },
        "id": "skijbG7ekKOS",
        "outputId": "419f8dc9-de14-4f18-e585-34d07e518420"
      },
      "execution_count": 31,
      "outputs": [
        {
          "output_type": "stream",
          "name": "stdout",
          "text": [
            "{'Animal': 'Dog', 'Type': 'Dobermann', 'Name of Owner': 'Charls'}\n",
            "{'Animal': 'Cat', 'Type': 'Persian Cat', 'Name of Owner': 'Cyriece'}\n",
            "{'Animal': 'Bird', 'Type': 'Parrot', 'Name of Owner': 'Cayla'}\n"
          ]
        }
      ]
    }
  ]
}