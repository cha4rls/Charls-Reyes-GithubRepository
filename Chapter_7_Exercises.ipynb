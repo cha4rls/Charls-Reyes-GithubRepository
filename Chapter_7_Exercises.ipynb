{
  "nbformat": 4,
  "nbformat_minor": 0,
  "metadata": {
    "colab": {
      "provenance": [],
      "authorship_tag": "ABX9TyPw/OxFF0s9ySwWOq8qdKUC",
      "include_colab_link": true
    },
    "kernelspec": {
      "name": "python3",
      "display_name": "Python 3"
    },
    "language_info": {
      "name": "python"
    }
  },
  "cells": [
    {
      "cell_type": "markdown",
      "metadata": {
        "id": "view-in-github",
        "colab_type": "text"
      },
      "source": [
        "<a href=\"https://colab.research.google.com/github/cha4rls/Welcome-To-The-World-Of-Programming/blob/main/Chapter_7_Exercises.ipynb\" target=\"_parent\"><img src=\"https://colab.research.google.com/assets/colab-badge.svg\" alt=\"Open In Colab\"/></a>"
      ]
    },
    {
      "cell_type": "code",
      "execution_count": null,
      "metadata": {
        "colab": {
          "base_uri": "https://localhost:8080/"
        },
        "id": "ENZlqJJMtiys",
        "outputId": "659cfd1a-45a9-4ee8-df88-b8f0deffa8e3"
      },
      "outputs": [
        {
          "output_type": "stream",
          "name": "stdout",
          "text": [
            "Hi everyone! In this chapter, we're going to learn about calling the functions.\n"
          ]
        }
      ],
      "source": [
        "#Exercise 1: Message\n",
        "\n",
        "def display_message(learnings): # To define a function, the keyword 'def' is used\n",
        "  print(f\"Hi everyone! {learnings}\") # f is identified as formatted string literal. \n",
        "display_message(\"In this chapter, we're going to learn about calling the functions.\")"
      ]
    },
    {
      "cell_type": "code",
      "source": [
        "#Exercise 2: Favorite Book\n",
        "\n",
        "def favorite_book(firstbook, secondbook):\n",
        "  print(f\"The book that I love the most is {firstbook.title()}, while {secondbook.title()} comes after.\")\n",
        "favorite_book(firstbook = \"milk and honey by rupi kaur\", secondbook = \"geronimo stiltion: the kingdom of fantasy\")"
      ],
      "metadata": {
        "colab": {
          "base_uri": "https://localhost:8080/"
        },
        "id": "-w3dTCmIxaz2",
        "outputId": "8191f692-7672-4c73-a531-ad041e8ddfff"
      },
      "execution_count": null,
      "outputs": [
        {
          "output_type": "stream",
          "name": "stdout",
          "text": [
            "The book that I love the most is Milk And Honey By Rupi Kaur, while Geronimo Stiltion: The Kingdom Of Fantasy comes after.\n"
          ]
        }
      ]
    },
    {
      "cell_type": "code",
      "source": [
        "#Exercise 3: T-Shirt\n",
        "\n",
        "def make_shirt(size, message):\n",
        "  print(f\"Hello! The chosen size of shirt is {size.title()}, and the text printed on the shirt says {message.title()}.\")\n",
        "make_shirt(size=\"small\", message=\"world's Most handsome man\")"
      ],
      "metadata": {
        "colab": {
          "base_uri": "https://localhost:8080/"
        },
        "id": "tYKsST__yrjf",
        "outputId": "b7ce4440-ce7c-4789-9740-a8aa09565ff7"
      },
      "execution_count": null,
      "outputs": [
        {
          "output_type": "stream",
          "name": "stdout",
          "text": [
            "Hello! The chosen size of shirt is Small, and the text printed on the shirt says World's Most Handsome Man.\n"
          ]
        }
      ]
    },
    {
      "cell_type": "code",
      "source": [
        "#Exercise 4: Large Shirts\n",
        "\n",
        "def make_shirt(size, size2, size3, message, message2):\n",
        "  print(f\"Hello! The chosen size for the first shirt is {size.title()}, and the text printed on the shirt says {message.title()}.\")\n",
        "  print(f\"Hello1 The chosen size for the second shirt is {size2.title()}, and the text printed on the shirt says {message.title()}.\")\n",
        "  print(f\"Hello! The chosen size for the third shirt is {size3.title()}, and the text printed on the shirt says {message2.title()}.\")\n",
        "make_shirt(size=\"large\", size2=\"medium\", size3=\"small\", message=\"i love python\", message2=\"always take care\")"
      ],
      "metadata": {
        "id": "YXg6dDPDzjtS",
        "colab": {
          "base_uri": "https://localhost:8080/"
        },
        "outputId": "b1696bba-9443-4e10-bdcf-a3a39695953a"
      },
      "execution_count": 3,
      "outputs": [
        {
          "output_type": "stream",
          "name": "stdout",
          "text": [
            "Hello! The chosen size for the first shirt is Large, and the text printed on the shirt says I Love Python.\n",
            "Hello1 The chosen size for the second shirt is Medium, and the text printed on the shirt says I Love Python.\n",
            "Hello! The chosen size for the third shirt is Small, and the text printed on the shirt says Always Take Care.\n"
          ]
        }
      ]
    },
    {
      "cell_type": "code",
      "source": [
        "#Exercise 5: Cities\n",
        "\n"
      ],
      "metadata": {
        "id": "gjd9bERDMj5v"
      },
      "execution_count": null,
      "outputs": []
    }
  ]
}