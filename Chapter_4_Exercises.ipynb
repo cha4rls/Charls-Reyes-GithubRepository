{
  "nbformat": 4,
  "nbformat_minor": 0,
  "metadata": {
    "colab": {
      "provenance": [],
      "authorship_tag": "ABX9TyNdcOGADkBSLQv8QrPYq/C7",
      "include_colab_link": true
    },
    "kernelspec": {
      "name": "python3",
      "display_name": "Python 3"
    },
    "language_info": {
      "name": "python"
    }
  },
  "cells": [
    {
      "cell_type": "markdown",
      "metadata": {
        "id": "view-in-github",
        "colab_type": "text"
      },
      "source": [
        "<a href=\"https://colab.research.google.com/github/cha4rls/Welcome-To-The-World-Of-Programming/blob/main/Chapter_4_Exercises.ipynb\" target=\"_parent\"><img src=\"https://colab.research.google.com/assets/colab-badge.svg\" alt=\"Open In Colab\"/></a>"
      ]
    },
    {
      "cell_type": "code",
      "execution_count": 1,
      "metadata": {
        "colab": {
          "base_uri": "https://localhost:8080/"
        },
        "id": "nvbkZ2tJS3Oa",
        "outputId": "04906aae-3693-45e5-e462-aa940c907ab0"
      },
      "outputs": [
        {
          "output_type": "stream",
          "name": "stdout",
          "text": [
            "You just earned 5 points!\n"
          ]
        }
      ],
      "source": [
        "#Exercise 1: Alien Colors no. 1\n",
        "\n",
        "alien_color = 'green'\n",
        "if alien_color == 'green':\n",
        "  print('You just earned 5 points!')\n",
        "\n",
        "alien_color = 'yellow'\n",
        "if alien_color == 'green':\n",
        "  print('You just earned 5 points!')\n",
        "\n",
        "alien_color = 'red'\n",
        "if alien_color == 'green':\n",
        "  print('You just earned 5 points!')"
      ]
    },
    {
      "cell_type": "code",
      "source": [
        "#Exercise 2: Alien Colors no. 2.1\n",
        "\n",
        "x = str(input('What alien color did you shoot? '))\n",
        "\n",
        "if x == 'green':\n",
        "  print('You just earned 5 points!')\n",
        "\n",
        "else:\n",
        "  print('You just earned 10 points!')"
      ],
      "metadata": {
        "colab": {
          "base_uri": "https://localhost:8080/"
        },
        "id": "ZVDXYPKZUBMi",
        "outputId": "41ed58d0-9238-41cc-a331-b951736ab5b7"
      },
      "execution_count": 2,
      "outputs": [
        {
          "output_type": "stream",
          "name": "stdout",
          "text": [
            "What alien color did you shoot? green\n",
            "You just earned 5 points!\n"
          ]
        }
      ]
    },
    {
      "cell_type": "code",
      "source": [
        "#Exercise 2: Alien Colors no. 2.2\n",
        "\n",
        "x = str(input('What alien color did you shoot? '))\n",
        "\n",
        "if x == 'green':\n",
        "  print('You just earned 5 points!')\n",
        "\n",
        "else:\n",
        "  print('You just earned 10 points!')"
      ],
      "metadata": {
        "colab": {
          "base_uri": "https://localhost:8080/"
        },
        "id": "6rvmNzHaUZG-",
        "outputId": "eb38aba8-8979-42c0-aad2-63324725b5cd"
      },
      "execution_count": 3,
      "outputs": [
        {
          "output_type": "stream",
          "name": "stdout",
          "text": [
            "What alien color did you shoot? black\n",
            "You just earned 10 points!\n"
          ]
        }
      ]
    },
    {
      "cell_type": "code",
      "source": [
        "#Exercise 3: Alien Colors no. 3.1\n",
        "\n",
        "x = str(input('There are 3 alien colors, green, yellow, and red. Which alien color did you shoot? '))\n",
        "\n",
        "if x == 'green':\n",
        "  print('You just earned 5 points!')\n",
        "\n",
        "elif x == 'yellow':\n",
        "  print('You just earned 10 points!')\n",
        "\n",
        "elif x == 'red':\n",
        "  print('You just earned 15 points!')\n",
        "\n",
        "else:\n",
        "  print('You earned nothing!')"
      ],
      "metadata": {
        "colab": {
          "base_uri": "https://localhost:8080/"
        },
        "id": "lkF1AT8DUone",
        "outputId": "0ffb13e5-4712-4973-f027-8a84ed7aa2d8"
      },
      "execution_count": 5,
      "outputs": [
        {
          "output_type": "stream",
          "name": "stdout",
          "text": [
            "There are 3 alien colors, green, yellow, and red. Which alien color did you shoot? green\n",
            "You just earned 5 points!\n"
          ]
        }
      ]
    },
    {
      "cell_type": "code",
      "source": [
        "#Exercise 3: Alien Colors no. 3.2\n",
        "\n",
        "x = str(input('There are 3 alien colors, green, yellow, and red. Which alien color did you shoot? '))\n",
        "\n",
        "if x == 'green':\n",
        "  print('You just earned 5 points!')\n",
        "\n",
        "elif x == 'yellow':\n",
        "  print('You just earned 10 points!')\n",
        "\n",
        "elif x == 'red':\n",
        "  print('You just earned 15 points!')\n",
        "\n",
        "else:\n",
        "  print('You earned nothing!')"
      ],
      "metadata": {
        "colab": {
          "base_uri": "https://localhost:8080/"
        },
        "id": "4JuLiDmTU8_Q",
        "outputId": "c7f6a1f2-24e1-4a4c-9d99-4a44755c6972"
      },
      "execution_count": 6,
      "outputs": [
        {
          "output_type": "stream",
          "name": "stdout",
          "text": [
            "There are 3 alien colors, green, yellow, and red. Which alien color did you shoot? yellow\n",
            "You just earned 10 points!\n"
          ]
        }
      ]
    },
    {
      "cell_type": "code",
      "source": [
        "#Exercise 3: Alien Colors no. 3.3\n",
        "\n",
        "x = str(input('There are 3 alien colors, green, yellow, and red. Which alien color did you shoot? '))\n",
        "\n",
        "if x == 'green':\n",
        "  print('You just earned 5 points!')\n",
        "\n",
        "elif x == 'yellow':\n",
        "  print('You just earned 10 points!')\n",
        "\n",
        "elif x == 'red':\n",
        "  print('You just earned 15 points!')\n",
        "\n",
        "else:\n",
        "  print('You earned nothing!')"
      ],
      "metadata": {
        "colab": {
          "base_uri": "https://localhost:8080/"
        },
        "id": "9i8P6XPZU_Ay",
        "outputId": "ec84766a-a8ea-43e9-a09c-d4d94d8f6af8"
      },
      "execution_count": 7,
      "outputs": [
        {
          "output_type": "stream",
          "name": "stdout",
          "text": [
            "There are 3 alien colors, green, yellow, and red. Which alien color did you shoot? red\n",
            "You just earned 15 points!\n"
          ]
        }
      ]
    },
    {
      "cell_type": "code",
      "source": [
        "#Exercise 4: Stages of Life\n",
        "\n",
        "x = int(input('How old are you? '))\n",
        "\n",
        "if x < 2:\n",
        "  print('You are a baby!')\n",
        "\n",
        "elif x < 4:\n",
        "  print('You are a toddler!')\n",
        "\n",
        "elif x < 13:\n",
        "  print('You are a kid!')\n",
        "\n",
        "elif x < 20:\n",
        "  print('You are a teenager!')\n",
        "\n",
        "elif x < 65:\n",
        "  print('You are an adult!')\n",
        "\n",
        "else:\n",
        "  print('You are an elder!')"
      ],
      "metadata": {
        "colab": {
          "base_uri": "https://localhost:8080/"
        },
        "id": "DIVvnCVeVF2l",
        "outputId": "9266b5bf-568a-4ce8-c635-dfba15b93d26"
      },
      "execution_count": 14,
      "outputs": [
        {
          "output_type": "stream",
          "name": "stdout",
          "text": [
            "How old are you? 12\n",
            "You are a kid!\n"
          ]
        }
      ]
    },
    {
      "cell_type": "code",
      "source": [
        "#Exercise 5: Favorite Fruit\n",
        "\n",
        "a = 'strawberry'\n",
        "b = 'grapes'\n",
        "c = 'banana'\n",
        "d = 'apple'\n",
        "e = 'mango'\n",
        "favorite_fruits = [\"banana\", \"mango\", \"apple\"]\n",
        "\n",
        "if a not in favorite_fruits:\n",
        "  print(a.title(),\"is not in the list of your favorite fruits!\")\n",
        "\n",
        "if b not in favorite_fruits:\n",
        "  print(b.title(),\"is not in the list of your favorite fruits!\")\n",
        "\n",
        "if c in favorite_fruits:\n",
        "  print(\"You should buy more\", c.title()+\"s!\")\n",
        "\n",
        "if d in favorite_fruits:\n",
        "  print(\"You should buy more\", d.title()+\"s!\")\n",
        "\n",
        "if e in favorite_fruits:\n",
        "  print(\"You should buy more\", e.title()+\"es!\")"
      ],
      "metadata": {
        "colab": {
          "base_uri": "https://localhost:8080/"
        },
        "id": "fvVdh_-xWh_r",
        "outputId": "451e96f2-c431-45db-b7da-d6934e086abe"
      },
      "execution_count": 18,
      "outputs": [
        {
          "output_type": "stream",
          "name": "stdout",
          "text": [
            "Strawberry is not in the list of your favorite fruits!\n",
            "Grapes is not in the list of your favorite fruits!\n",
            "You should buy more Bananas!\n",
            "You should buy more Apples!\n",
            "You should buy more Mangoes!\n"
          ]
        }
      ]
    }
  ]
}