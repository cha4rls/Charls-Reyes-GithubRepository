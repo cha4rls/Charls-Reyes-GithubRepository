{
  "nbformat": 4,
  "nbformat_minor": 0,
  "metadata": {
    "colab": {
      "provenance": [],
      "authorship_tag": "ABX9TyM6CEkzf7ccLnGAonHyKMaz",
      "include_colab_link": true
    },
    "kernelspec": {
      "name": "python3",
      "display_name": "Python 3"
    },
    "language_info": {
      "name": "python"
    }
  },
  "cells": [
    {
      "cell_type": "markdown",
      "metadata": {
        "id": "view-in-github",
        "colab_type": "text"
      },
      "source": [
        "<a href=\"https://colab.research.google.com/github/cha4rls/Welcome-To-The-World-Of-Programming/blob/main/Chapter_1_Exercises.ipynb\" target=\"_parent\"><img src=\"https://colab.research.google.com/assets/colab-badge.svg\" alt=\"Open In Colab\"/></a>"
      ]
    },
    {
      "cell_type": "code",
      "execution_count": 1,
      "metadata": {
        "id": "AOQUSGZ1zM1Y",
        "colab": {
          "base_uri": "https://localhost:8080/"
        },
        "outputId": "7f43f8f6-50e6-4ff4-d2bf-0f1b96afc649"
      },
      "outputs": [
        {
          "output_type": "stream",
          "name": "stdout",
          "text": [
            "Twinkle, twinkle, little star, How I wonder what you are! Up above the world so high, Like a diamond in the sky. Twinkle, twinkle, little star, How I wonder what you are.\n"
          ]
        }
      ],
      "source": [
        "#Exercise 1: Print Strings\n",
        "\n",
        "print('Twinkle, twinkle, little star, How I wonder what you are! Up above the world so high, Like a diamond in the sky. Twinkle, twinkle, little star, How I wonder what you are.')"
      ]
    },
    {
      "cell_type": "code",
      "source": [
        "#Exercise 2: Print the Version of Python\n",
        "\n",
        "import sys\n",
        "print(\"Python Version:\")\n",
        "print (sys.version)\n",
        "print(\"\\n\")\n",
        "\n",
        "print(\"Version information:\")\n",
        "print (sys.version_info)"
      ],
      "metadata": {
        "colab": {
          "base_uri": "https://localhost:8080/"
        },
        "id": "MQPRM0W30_xg",
        "outputId": "bc801b46-61a7-4762-978d-2f9201d71ffb"
      },
      "execution_count": 6,
      "outputs": [
        {
          "output_type": "stream",
          "name": "stdout",
          "text": [
            "Python Version:\n",
            "3.7.14 (default, Sep  8 2022, 00:06:44) \n",
            "[GCC 7.5.0]\n",
            "\n",
            "\n",
            "Version information:\n",
            "sys.version_info(major=3, minor=7, micro=14, releaselevel='final', serial=0)\n"
          ]
        }
      ]
    },
    {
      "cell_type": "code",
      "source": [
        "#Exercise 3: Print Date and Time\n",
        "\n",
        "from datetime import datetime\n",
        "\n",
        "now = datetime.now()\n",
        "print(\"The exact date and time right now is: \", now)"
      ],
      "metadata": {
        "colab": {
          "base_uri": "https://localhost:8080/"
        },
        "id": "zV98RjWp14Qr",
        "outputId": "b179db3f-ea62-4d8d-dca3-3c11679b46c4"
      },
      "execution_count": 14,
      "outputs": [
        {
          "output_type": "stream",
          "name": "stdout",
          "text": [
            "The exact date and time right now is:  2022-10-08 18:39:17.540756\n"
          ]
        }
      ]
    },
    {
      "cell_type": "code",
      "source": [
        "#Exercise 4: Strings Concatination\n",
        "\n",
        "intro = \"Hello! My name is Charls S. Reyes. \" #This is the first declared variable\n",
        "intro2 = \"I am 19 years old. \" #This is the second decalred variable\n",
        "intro3 = \"My birthday is on March 9, 2003. \" #This is the third declared variable\n",
        "\n",
        "print(intro + intro2 + intro3)"
      ],
      "metadata": {
        "colab": {
          "base_uri": "https://localhost:8080/"
        },
        "id": "b0l6fsio3zlu",
        "outputId": "5e32168a-56de-47d3-aaf1-b1460c0b0f19"
      },
      "execution_count": 18,
      "outputs": [
        {
          "output_type": "stream",
          "name": "stdout",
          "text": [
            "Hello! My name is Charls S. Reyes. I am 19 years old. My birthday is on March 9, 2003. \n"
          ]
        }
      ]
    },
    {
      "cell_type": "code",
      "source": [
        "#Exercise 5: Compute the Area of a Circle\n",
        "\n",
        "pi = 3.14159\n",
        "r = float(input (\"Please enter the radius of the circle: \"))\n",
        "print(\"The area of the circle with a radius of \" + str(r) + \" is: \" + str(pi*(r**2)))"
      ],
      "metadata": {
        "colab": {
          "base_uri": "https://localhost:8080/"
        },
        "id": "6EDE71uf59sz",
        "outputId": "0e6e5700-829c-47ce-e89f-83e8a03fb568"
      },
      "execution_count": 19,
      "outputs": [
        {
          "output_type": "stream",
          "name": "stdout",
          "text": [
            "Please enter the radius of the circle: 15\n",
            "The area of the circle with a radius of 15.0 is: 706.85775\n"
          ]
        }
      ]
    }
  ]
}