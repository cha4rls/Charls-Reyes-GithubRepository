{
  "nbformat": 4,
  "nbformat_minor": 0,
  "metadata": {
    "colab": {
      "provenance": [],
      "authorship_tag": "ABX9TyOinBvJXseZXurprS0/PMMQ",
      "include_colab_link": true
    },
    "kernelspec": {
      "name": "python3",
      "display_name": "Python 3"
    },
    "language_info": {
      "name": "python"
    }
  },
  "cells": [
    {
      "cell_type": "markdown",
      "metadata": {
        "id": "view-in-github",
        "colab_type": "text"
      },
      "source": [
        "<a href=\"https://colab.research.google.com/github/cha4rls/Welcome-To-The-World-Of-Programming/blob/main/Chapter_3_Exercises.ipynb\" target=\"_parent\"><img src=\"https://colab.research.google.com/assets/colab-badge.svg\" alt=\"Open In Colab\"/></a>"
      ]
    },
    {
      "cell_type": "code",
      "execution_count": 2,
      "metadata": {
        "colab": {
          "base_uri": "https://localhost:8080/"
        },
        "id": "sPwirKxiONUu",
        "outputId": "bfe8b12f-c896-4c12-ebb4-0bd22b262c31"
      },
      "outputs": [
        {
          "output_type": "stream",
          "name": "stdout",
          "text": [
            "krunch\n",
            "renzie\n",
            "gab\n",
            "rafael\n",
            "ysabel\n",
            "yang\n",
            "patricia\n"
          ]
        }
      ],
      "source": [
        "#Exercise 1: Names\n",
        "\n",
        "friends = [\"krunch\", \"renzie\", \"gab\", \"rafael\", \"ysabel\", \"yang\", \"patricia\"]\n",
        "\n",
        "print(friends[0])\n",
        "print(friends[1])\n",
        "print(friends[2])\n",
        "print(friends[3])\n",
        "print(friends[4])\n",
        "print(friends[5])\n",
        "print(friends[6])\n"
      ]
    },
    {
      "cell_type": "code",
      "source": [
        "#Exercise 2: Greetings\n",
        "\n",
        "friends = [\"Krunch\", \"Renzie\", \"Gab\", \"Rafael\", \"Ysabel\", \"Yang\", \"Patricia\"]\n",
        "\n",
        "print(\"Hello! Good morning\", friends[0], \":)\")\n",
        "print(\"Hello! Good morning\", friends[1], \":)\")\n",
        "print(\"Hello! Good morning\", friends[2], \":)\")\n",
        "print(\"Hello! Good morning\", friends[3], \":)\")\n",
        "print(\"Hello! Good morning\", friends[4], \":)\")\n",
        "print(\"Hello! Good morning\", friends[5], \":)\")\n",
        "print(\"Hello! Good morning\", friends[6], \":)\")\n"
      ],
      "metadata": {
        "colab": {
          "base_uri": "https://localhost:8080/"
        },
        "id": "rMC-4tWwPGbl",
        "outputId": "6489dfbb-1b6b-4aab-a965-eddb9e9fb546"
      },
      "execution_count": 3,
      "outputs": [
        {
          "output_type": "stream",
          "name": "stdout",
          "text": [
            "Hello! Good morning Krunch :)\n",
            "Hello! Good morning Renzie :)\n",
            "Hello! Good morning Gab :)\n",
            "Hello! Good morning Rafael :)\n",
            "Hello! Good morning Ysabel :)\n",
            "Hello! Good morning Yang :)\n",
            "Hello! Good morning Patricia :)\n"
          ]
        }
      ]
    },
    {
      "cell_type": "code",
      "source": [
        "#Exercise 3: Your Own List\n",
        "\n",
        "transpo = [\"car\", \"taxi\", \"metro\"]\n",
        "\n",
        "print(\"I love having the presence of an exotic\", transpo[0],\"around me.\")\n",
        "print(\"Using the Dubai\", transpo[1],\"is one of the quickest way to get to your destination.\")\n",
        "print(\"If you wish to travel without spending much, the Dubai\", transpo[2],\"is your answer.\")"
      ],
      "metadata": {
        "colab": {
          "base_uri": "https://localhost:8080/"
        },
        "id": "rDPLjLsTP2Bz",
        "outputId": "5b7d435a-7a1d-4c5f-e086-67cec2262a3b"
      },
      "execution_count": 4,
      "outputs": [
        {
          "output_type": "stream",
          "name": "stdout",
          "text": [
            "I love having the presence of an exotic car around me.\n",
            "Using the Dubai taxi is one of the quickest way to get to your destination.\n",
            "If you wish to travel without spending much, the Dubai metro is your answer.\n"
          ]
        }
      ]
    },
    {
      "cell_type": "code",
      "source": [
        "#Exercise 4: Guest List\n",
        "\n",
        "guest = [\"Kobe Bryant\", \"Dindin Garcia\", \"Jasmine Perfinian\"]\n",
        "\n",
        "print(\"Warm greetings,\", guest[0],\"you have been invited by Charls to a dinner at Caesars Palace Dubai in November 23, 2022 at 8:00 PM.\")\n",
        "print(\"Warm greetings,\", guest[1],\"you have been invited by Charls to a dinner at Caesars Palace Dubai in November 23, 2022 at 8:00 PM.\")\n",
        "print(\"Warm greetings,\", guest[2],\"you have been invited by Charls to a dinner at Caesars Palace Dubai in November 23, 2022 at 8:00 PM.\")"
      ],
      "metadata": {
        "id": "OYlrzCGeR5LP",
        "colab": {
          "base_uri": "https://localhost:8080/"
        },
        "outputId": "dadb1919-ed5d-43fa-f6eb-c14c88b30ba2"
      },
      "execution_count": 7,
      "outputs": [
        {
          "output_type": "stream",
          "name": "stdout",
          "text": [
            "Warm greetings, Kobe Bryant you have been invited by Charls to a dinner at Caesars Palace Dubai in November 23, 2022 at 8:00 PM.\n",
            "Warm greetings, Dindin Garcia you have been invited by Charls to a dinner at Caesars Palace Dubai in November 23, 2022 at 8:00 PM.\n",
            "Warm greetings, Jasmine Perfinian you have been invited by Charls to a dinner at Caesars Palace Dubai in November 23, 2022 at 8:00 PM.\n"
          ]
        }
      ]
    },
    {
      "cell_type": "code",
      "source": [
        "#Exercise 5: Change Guest List\n",
        "\n",
        "guest = [\"Kobe Bryant\", \"Dindin Garcia\", \"Jasmine Perfinian\"]\n",
        "\n",
        "print(\"Sorry to inform you, but\", guest[0],\"wouldn't be able to attend due to personal matters.\")\n",
        "print(\"\\n\")\n",
        "\n",
        "guest[0] = 'Ryan Lumbes'\n",
        "\n",
        "print(\"Warm greetings,\", guest[0],\"you have been invited by Charls to a dinner at Caesars Palace Dubai in November 23, 2022 at 8:00 PM.\")\n",
        "print(\"Warm greetings,\", guest[1],\"you have been invited by Charls to a dinner at Caesars Palace Dubai in November 23, 2022 at 8:00 PM.\")\n",
        "print(\"Warm greetings,\", guest[2],\"you have been invited by Charls to a dinner at Caesars Palace Dubai in November 23, 2022 at 8:00 PM.\")"
      ],
      "metadata": {
        "colab": {
          "base_uri": "https://localhost:8080/"
        },
        "id": "-rrEf33fH9Kv",
        "outputId": "f0faf1ce-fe52-4106-c8ea-93c743347f2d"
      },
      "execution_count": 9,
      "outputs": [
        {
          "output_type": "stream",
          "name": "stdout",
          "text": [
            "Sorry to inform you, but Kobe Bryant wouldn't be able to attend due to personal matters.\n",
            "\n",
            "\n",
            "Warm greetings, Ryan Lumbes you have been invited by Charls to a dinner at Caesars Palace Dubai in November 23, 2022 at 8:00 PM.\n",
            "Warm greetings, Dindin Garcia you have been invited by Charls to a dinner at Caesars Palace Dubai in November 23, 2022 at 8:00 PM.\n",
            "Warm greetings, Jasmine Perfinian you have been invited by Charls to a dinner at Caesars Palace Dubai in November 23, 2022 at 8:00 PM.\n"
          ]
        }
      ]
    },
    {
      "cell_type": "code",
      "source": [
        "#Exercise 6: Shrinking Guest List\n",
        "\n",
        "guest = [\"Ryan Lumbes\", \"Dindin Garcia\", \"Jasmine Perfinian\"]\n",
        "\n",
        "print(\"Warm greetings,\", guest[0],\"you have been invited by Charls to a dinner at Caesars Palace Dubai in November 23, 2022 at 8:00 PM.\")\n",
        "print(\"Warm greetings,\", guest[1],\"you have been invited by Charls to a dinner at Caesars Palace Dubai in November 23, 2022 at 8:00 PM.\")\n",
        "print(\"Warm greetings,\", guest[2],\"you have been invited by Charls to a dinner at Caesars Palace Dubai in November 23, 2022 at 8:00 PM.\")\n",
        "print(\"\\n\")\n",
        "\n",
        "print(\"The hotel has called me, informing that the large dinner table won't be able to arrive. Sad to say, but I would only be able to invite 2 people now.\")\n",
        "print(\"\\n\")\n",
        "\n",
        "popped = guest.pop()\n",
        "\n",
        "print(\"Good day, Jasmine! Sorry to message you late in this time, but I would only be able to invite 2 people to my dinner.\")\n",
        "print(\"I'll have to remove you from the guests list. I hope you understand, and I'll catch up with you next time!\")\n",
        "print(\"\\n\")\n",
        "\n",
        "print(\"Good day,\", guest[0]+\"! This is to let you know that the dinner at Caesars Palace Dubai would be pushed through. Message me if you have any questions, take care!\")\n",
        "print(\"Good day,\", guest[1]+\"! This is to let you know that the dinner at Caesars Palace Dubai would be pushed through. Message me if you have any questions, take care!\")\n",
        "print(\"\\n\")\n",
        "\n",
        "del guest[:]\n",
        "\n",
        "print(\"Remaining Guests:\", guest)"
      ],
      "metadata": {
        "colab": {
          "base_uri": "https://localhost:8080/"
        },
        "id": "S9U_Zdy1JX13",
        "outputId": "010671d7-57ed-43b6-b6b0-eff434dfe508"
      },
      "execution_count": 16,
      "outputs": [
        {
          "output_type": "stream",
          "name": "stdout",
          "text": [
            "Warm greetings, Ryan Lumbes you have been invited by Charls to a dinner at Caesars Palace Dubai in November 23, 2022 at 8:00 PM.\n",
            "Warm greetings, Dindin Garcia you have been invited by Charls to a dinner at Caesars Palace Dubai in November 23, 2022 at 8:00 PM.\n",
            "Warm greetings, Jasmine Perfinian you have been invited by Charls to a dinner at Caesars Palace Dubai in November 23, 2022 at 8:00 PM.\n",
            "\n",
            "\n",
            "The hotel has called me, informing that the large dinner table won't be able to arrive. Sad to say, but I would only be able to invite 2 people now.\n",
            "\n",
            "\n",
            "Good day, Jasmine! Sorry to message you late in this time, but I would only be able to invite 2 people to my dinner.\n",
            "I'll have to remove you from the guests list. I hope you understand, and I'll catch up with you next time!\n",
            "\n",
            "\n",
            "Good day, Ryan Lumbes! This is to let you know that the dinner at Caesars Palace Dubai would be pushed through. Message me if you have any questions, take care!\n",
            "Good day, Dindin Garcia! This is to let you know that the dinner at Caesars Palace Dubai would be pushed through. Message me if you have any questions, take care!\n",
            "\n",
            "\n",
            "Remaining Guests: []\n"
          ]
        }
      ]
    },
    {
      "cell_type": "code",
      "source": [
        "#Exercise 7: Seeing the World\n",
        "\n",
        "places = [\"Eiffel Tower\", \"Monaco\", \"Toronto\", \"New York City\", \"Switzerland\"]\n",
        "print(places)\n",
        "print(\"\\n\")\n",
        "\n",
        "print(sorted(places))\n",
        "print(\"\\n\")\n",
        "\n",
        "print(places)\n",
        "print(\"\\n\")\n",
        "\n",
        "print(sorted(places, reverse=True))\n",
        "print(\"\\n\")\n",
        "\n",
        "print(places)\n",
        "print(\"\\n\")\n",
        "\n",
        "places.reverse()\n",
        "print(places)\n",
        "print(\"\\n\")\n",
        "\n",
        "places.reverse()\n",
        "print(places)\n",
        "print(\"\\n\")\n",
        "\n",
        "places.sort()\n",
        "print(places)\n",
        "print(\"\\n\")\n",
        "\n",
        "places.sort(reverse=True)\n",
        "print(places)\n",
        "print(\"\\n\")"
      ],
      "metadata": {
        "colab": {
          "base_uri": "https://localhost:8080/"
        },
        "id": "1UCcPLAqODxw",
        "outputId": "cf50b5e9-4628-4139-a227-8ff86fa728d1"
      },
      "execution_count": 32,
      "outputs": [
        {
          "output_type": "stream",
          "name": "stdout",
          "text": [
            "['Eiffel Tower', 'Monaco', 'Toronto', 'New York City', 'Switzerland']\n",
            "\n",
            "\n",
            "['Eiffel Tower', 'Monaco', 'New York City', 'Switzerland', 'Toronto']\n",
            "\n",
            "\n",
            "['Eiffel Tower', 'Monaco', 'Toronto', 'New York City', 'Switzerland']\n",
            "\n",
            "\n",
            "['Toronto', 'Switzerland', 'New York City', 'Monaco', 'Eiffel Tower']\n",
            "\n",
            "\n",
            "['Eiffel Tower', 'Monaco', 'Toronto', 'New York City', 'Switzerland']\n",
            "\n",
            "\n",
            "['Switzerland', 'New York City', 'Toronto', 'Monaco', 'Eiffel Tower']\n",
            "\n",
            "\n",
            "['Eiffel Tower', 'Monaco', 'Toronto', 'New York City', 'Switzerland']\n",
            "\n",
            "\n",
            "['Eiffel Tower', 'Monaco', 'New York City', 'Switzerland', 'Toronto']\n",
            "\n",
            "\n",
            "['Toronto', 'Switzerland', 'New York City', 'Monaco', 'Eiffel Tower']\n",
            "\n",
            "\n"
          ]
        }
      ]
    }
  ]
}